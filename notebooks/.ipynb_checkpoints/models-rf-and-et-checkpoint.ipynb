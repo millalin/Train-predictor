{
 "cells": [
  {
   "cell_type": "markdown",
   "metadata": {},
   "source": [
    "# Models - Random Forest and Extra Trees"
   ]
  },
  {
   "cell_type": "code",
   "execution_count": 1,
   "metadata": {},
   "outputs": [
    {
     "name": "stderr",
     "output_type": "stream",
     "text": [
      "/home/hdheli/anaconda3/lib/python3.7/site-packages/IPython/core/interactiveshell.py:3063: DtypeWarning: Columns (2) have mixed types.Specify dtype option on import or set low_memory=False.\n",
      "  interactivity=interactivity, compiler=compiler, result=result)\n"
     ]
    },
    {
     "data": {
      "text/html": [
       "<div>\n",
       "<style scoped>\n",
       "    .dataframe tbody tr th:only-of-type {\n",
       "        vertical-align: middle;\n",
       "    }\n",
       "\n",
       "    .dataframe tbody tr th {\n",
       "        vertical-align: top;\n",
       "    }\n",
       "\n",
       "    .dataframe thead th {\n",
       "        text-align: right;\n",
       "    }\n",
       "</style>\n",
       "<table border=\"1\" class=\"dataframe\">\n",
       "  <thead>\n",
       "    <tr style=\"text-align: right;\">\n",
       "      <th></th>\n",
       "      <th>commuterLineID</th>\n",
       "      <th>stationShortCode</th>\n",
       "      <th>commercialTrack</th>\n",
       "      <th>differenceInMinutes</th>\n",
       "      <th>weather_area</th>\n",
       "      <th>year</th>\n",
       "      <th>month</th>\n",
       "      <th>day</th>\n",
       "      <th>hour</th>\n",
       "      <th>categoryCode</th>\n",
       "      <th>categoryCodeId</th>\n",
       "      <th>detailedCategoryCode</th>\n",
       "      <th>detailedCategoryCodeId</th>\n",
       "      <th>direction</th>\n",
       "      <th>weekday</th>\n",
       "      <th>rain</th>\n",
       "      <th>celcius</th>\n",
       "      <th>windGustSpeed</th>\n",
       "      <th>windSpeed</th>\n",
       "    </tr>\n",
       "  </thead>\n",
       "  <tbody>\n",
       "    <tr>\n",
       "      <th>0</th>\n",
       "      <td>A</td>\n",
       "      <td>LPV</td>\n",
       "      <td>4</td>\n",
       "      <td>0</td>\n",
       "      <td>2</td>\n",
       "      <td>2018</td>\n",
       "      <td>6</td>\n",
       "      <td>27</td>\n",
       "      <td>3</td>\n",
       "      <td>NaN</td>\n",
       "      <td>NaN</td>\n",
       "      <td>NaN</td>\n",
       "      <td>NaN</td>\n",
       "      <td>0</td>\n",
       "      <td>2</td>\n",
       "      <td>0</td>\n",
       "      <td>13</td>\n",
       "      <td>3</td>\n",
       "      <td>2</td>\n",
       "    </tr>\n",
       "    <tr>\n",
       "      <th>1</th>\n",
       "      <td>A</td>\n",
       "      <td>LPV</td>\n",
       "      <td>4</td>\n",
       "      <td>0</td>\n",
       "      <td>2</td>\n",
       "      <td>2018</td>\n",
       "      <td>6</td>\n",
       "      <td>27</td>\n",
       "      <td>3</td>\n",
       "      <td>NaN</td>\n",
       "      <td>NaN</td>\n",
       "      <td>NaN</td>\n",
       "      <td>NaN</td>\n",
       "      <td>0</td>\n",
       "      <td>2</td>\n",
       "      <td>0</td>\n",
       "      <td>13</td>\n",
       "      <td>3</td>\n",
       "      <td>2</td>\n",
       "    </tr>\n",
       "    <tr>\n",
       "      <th>2</th>\n",
       "      <td>A</td>\n",
       "      <td>LPV</td>\n",
       "      <td>4</td>\n",
       "      <td>0</td>\n",
       "      <td>2</td>\n",
       "      <td>2018</td>\n",
       "      <td>6</td>\n",
       "      <td>27</td>\n",
       "      <td>3</td>\n",
       "      <td>NaN</td>\n",
       "      <td>NaN</td>\n",
       "      <td>NaN</td>\n",
       "      <td>NaN</td>\n",
       "      <td>0</td>\n",
       "      <td>2</td>\n",
       "      <td>0</td>\n",
       "      <td>13</td>\n",
       "      <td>3</td>\n",
       "      <td>2</td>\n",
       "    </tr>\n",
       "    <tr>\n",
       "      <th>3</th>\n",
       "      <td>A</td>\n",
       "      <td>LPV</td>\n",
       "      <td>4</td>\n",
       "      <td>0</td>\n",
       "      <td>2</td>\n",
       "      <td>2018</td>\n",
       "      <td>6</td>\n",
       "      <td>27</td>\n",
       "      <td>3</td>\n",
       "      <td>NaN</td>\n",
       "      <td>NaN</td>\n",
       "      <td>NaN</td>\n",
       "      <td>NaN</td>\n",
       "      <td>0</td>\n",
       "      <td>2</td>\n",
       "      <td>0</td>\n",
       "      <td>13</td>\n",
       "      <td>3</td>\n",
       "      <td>2</td>\n",
       "    </tr>\n",
       "    <tr>\n",
       "      <th>4</th>\n",
       "      <td>A</td>\n",
       "      <td>LPV</td>\n",
       "      <td>4</td>\n",
       "      <td>0</td>\n",
       "      <td>2</td>\n",
       "      <td>2018</td>\n",
       "      <td>6</td>\n",
       "      <td>27</td>\n",
       "      <td>4</td>\n",
       "      <td>NaN</td>\n",
       "      <td>NaN</td>\n",
       "      <td>NaN</td>\n",
       "      <td>NaN</td>\n",
       "      <td>0</td>\n",
       "      <td>2</td>\n",
       "      <td>0</td>\n",
       "      <td>14</td>\n",
       "      <td>4</td>\n",
       "      <td>2</td>\n",
       "    </tr>\n",
       "    <tr>\n",
       "      <th>...</th>\n",
       "      <td>...</td>\n",
       "      <td>...</td>\n",
       "      <td>...</td>\n",
       "      <td>...</td>\n",
       "      <td>...</td>\n",
       "      <td>...</td>\n",
       "      <td>...</td>\n",
       "      <td>...</td>\n",
       "      <td>...</td>\n",
       "      <td>...</td>\n",
       "      <td>...</td>\n",
       "      <td>...</td>\n",
       "      <td>...</td>\n",
       "      <td>...</td>\n",
       "      <td>...</td>\n",
       "      <td>...</td>\n",
       "      <td>...</td>\n",
       "      <td>...</td>\n",
       "      <td>...</td>\n",
       "    </tr>\n",
       "    <tr>\n",
       "      <th>10480658</th>\n",
       "      <td>Z</td>\n",
       "      <td>PSL</td>\n",
       "      <td>4</td>\n",
       "      <td>1</td>\n",
       "      <td>1</td>\n",
       "      <td>2017</td>\n",
       "      <td>9</td>\n",
       "      <td>2</td>\n",
       "      <td>20</td>\n",
       "      <td>NaN</td>\n",
       "      <td>NaN</td>\n",
       "      <td>NaN</td>\n",
       "      <td>NaN</td>\n",
       "      <td>1</td>\n",
       "      <td>5</td>\n",
       "      <td>0</td>\n",
       "      <td>12</td>\n",
       "      <td>4</td>\n",
       "      <td>3</td>\n",
       "    </tr>\n",
       "    <tr>\n",
       "      <th>10480659</th>\n",
       "      <td>Z</td>\n",
       "      <td>TKL</td>\n",
       "      <td>2</td>\n",
       "      <td>1</td>\n",
       "      <td>1</td>\n",
       "      <td>2017</td>\n",
       "      <td>9</td>\n",
       "      <td>2</td>\n",
       "      <td>20</td>\n",
       "      <td>NaN</td>\n",
       "      <td>NaN</td>\n",
       "      <td>NaN</td>\n",
       "      <td>NaN</td>\n",
       "      <td>1</td>\n",
       "      <td>5</td>\n",
       "      <td>0</td>\n",
       "      <td>12</td>\n",
       "      <td>4</td>\n",
       "      <td>3</td>\n",
       "    </tr>\n",
       "    <tr>\n",
       "      <th>10480660</th>\n",
       "      <td>Z</td>\n",
       "      <td>KE</td>\n",
       "      <td>4</td>\n",
       "      <td>1</td>\n",
       "      <td>1</td>\n",
       "      <td>2017</td>\n",
       "      <td>9</td>\n",
       "      <td>2</td>\n",
       "      <td>20</td>\n",
       "      <td>NaN</td>\n",
       "      <td>NaN</td>\n",
       "      <td>NaN</td>\n",
       "      <td>NaN</td>\n",
       "      <td>1</td>\n",
       "      <td>5</td>\n",
       "      <td>0</td>\n",
       "      <td>12</td>\n",
       "      <td>4</td>\n",
       "      <td>3</td>\n",
       "    </tr>\n",
       "    <tr>\n",
       "      <th>10480661</th>\n",
       "      <td>Z</td>\n",
       "      <td>HAA</td>\n",
       "      <td>4</td>\n",
       "      <td>0</td>\n",
       "      <td>1</td>\n",
       "      <td>2017</td>\n",
       "      <td>9</td>\n",
       "      <td>2</td>\n",
       "      <td>20</td>\n",
       "      <td>NaN</td>\n",
       "      <td>NaN</td>\n",
       "      <td>NaN</td>\n",
       "      <td>NaN</td>\n",
       "      <td>1</td>\n",
       "      <td>5</td>\n",
       "      <td>0</td>\n",
       "      <td>12</td>\n",
       "      <td>4</td>\n",
       "      <td>3</td>\n",
       "    </tr>\n",
       "    <tr>\n",
       "      <th>10480662</th>\n",
       "      <td>Z</td>\n",
       "      <td>MLÄ</td>\n",
       "      <td>4</td>\n",
       "      <td>1</td>\n",
       "      <td>7</td>\n",
       "      <td>2017</td>\n",
       "      <td>9</td>\n",
       "      <td>2</td>\n",
       "      <td>20</td>\n",
       "      <td>NaN</td>\n",
       "      <td>NaN</td>\n",
       "      <td>NaN</td>\n",
       "      <td>NaN</td>\n",
       "      <td>1</td>\n",
       "      <td>5</td>\n",
       "      <td>0</td>\n",
       "      <td>11</td>\n",
       "      <td>3</td>\n",
       "      <td>1</td>\n",
       "    </tr>\n",
       "  </tbody>\n",
       "</table>\n",
       "<p>10480663 rows × 19 columns</p>\n",
       "</div>"
      ],
      "text/plain": [
       "         commuterLineID stationShortCode commercialTrack  differenceInMinutes  \\\n",
       "0                     A              LPV               4                    0   \n",
       "1                     A              LPV               4                    0   \n",
       "2                     A              LPV               4                    0   \n",
       "3                     A              LPV               4                    0   \n",
       "4                     A              LPV               4                    0   \n",
       "...                 ...              ...             ...                  ...   \n",
       "10480658              Z              PSL               4                    1   \n",
       "10480659              Z              TKL               2                    1   \n",
       "10480660              Z               KE               4                    1   \n",
       "10480661              Z              HAA               4                    0   \n",
       "10480662              Z              MLÄ               4                    1   \n",
       "\n",
       "          weather_area  year  month  day  hour categoryCode  categoryCodeId  \\\n",
       "0                    2  2018      6   27     3          NaN             NaN   \n",
       "1                    2  2018      6   27     3          NaN             NaN   \n",
       "2                    2  2018      6   27     3          NaN             NaN   \n",
       "3                    2  2018      6   27     3          NaN             NaN   \n",
       "4                    2  2018      6   27     4          NaN             NaN   \n",
       "...                ...   ...    ...  ...   ...          ...             ...   \n",
       "10480658             1  2017      9    2    20          NaN             NaN   \n",
       "10480659             1  2017      9    2    20          NaN             NaN   \n",
       "10480660             1  2017      9    2    20          NaN             NaN   \n",
       "10480661             1  2017      9    2    20          NaN             NaN   \n",
       "10480662             7  2017      9    2    20          NaN             NaN   \n",
       "\n",
       "         detailedCategoryCode  detailedCategoryCodeId  direction  weekday  \\\n",
       "0                         NaN                     NaN          0        2   \n",
       "1                         NaN                     NaN          0        2   \n",
       "2                         NaN                     NaN          0        2   \n",
       "3                         NaN                     NaN          0        2   \n",
       "4                         NaN                     NaN          0        2   \n",
       "...                       ...                     ...        ...      ...   \n",
       "10480658                  NaN                     NaN          1        5   \n",
       "10480659                  NaN                     NaN          1        5   \n",
       "10480660                  NaN                     NaN          1        5   \n",
       "10480661                  NaN                     NaN          1        5   \n",
       "10480662                  NaN                     NaN          1        5   \n",
       "\n",
       "          rain  celcius  windGustSpeed  windSpeed  \n",
       "0            0       13              3          2  \n",
       "1            0       13              3          2  \n",
       "2            0       13              3          2  \n",
       "3            0       13              3          2  \n",
       "4            0       14              4          2  \n",
       "...        ...      ...            ...        ...  \n",
       "10480658     0       12              4          3  \n",
       "10480659     0       12              4          3  \n",
       "10480660     0       12              4          3  \n",
       "10480661     0       12              4          3  \n",
       "10480662     0       11              3          1  \n",
       "\n",
       "[10480663 rows x 19 columns]"
      ]
     },
     "execution_count": 1,
     "metadata": {},
     "output_type": "execute_result"
    }
   ],
   "source": [
    "import pandas as pd\n",
    "\n",
    "merged = pd.read_csv(\"../data/merged/trains_and_weather.csv\") \n",
    "merged"
   ]
  },
  {
   "cell_type": "markdown",
   "metadata": {},
   "source": [
    "newest merged version 12.10.2020, floats converted to int, weekday added"
   ]
  },
  {
   "cell_type": "code",
   "execution_count": 2,
   "metadata": {},
   "outputs": [],
   "source": [
    "df2 = merged.copy().drop(columns=[\"categoryCode\",\"categoryCodeId\",\"detailedCategoryCode\",\"detailedCategoryCodeId\", \"commercialTrack\"])\n"
   ]
  },
  {
   "cell_type": "markdown",
   "metadata": {},
   "source": [
    "Changing the data to numeric, difference in minutes has been changed with this:\n",
    "\n",
    "\n",
    "def get_category(x):\n",
    "    if x<= 0:\n",
    "        return 0\n",
    "    if (x>0) & (x<3):\n",
    "        return 1\n",
    "    else:\n",
    "        return 2"
   ]
  },
  {
   "cell_type": "code",
   "execution_count": 3,
   "metadata": {},
   "outputs": [
    {
     "data": {
      "text/plain": [
       "commuterLineID          int8\n",
       "stationShortCode        int8\n",
       "differenceInMinutes    int64\n",
       "weather_area           int64\n",
       "year                   int64\n",
       "month                  int64\n",
       "day                    int64\n",
       "hour                   int64\n",
       "direction              int64\n",
       "weekday                int64\n",
       "rain                   int64\n",
       "celcius                int64\n",
       "windGustSpeed          int64\n",
       "windSpeed              int64\n",
       "dtype: object"
      ]
     },
     "execution_count": 3,
     "metadata": {},
     "output_type": "execute_result"
    }
   ],
   "source": [
    "df3 = df2.copy().sample(2500000)\n",
    "df3 = df3.astype({'commuterLineID': 'category', 'stationShortCode': 'category'})\n",
    "categoryToNumeric = df3.select_dtypes(['category']).columns\n",
    "df3[categoryToNumeric] = df3[categoryToNumeric].apply(lambda x: x.cat.codes)\n",
    "df3.dtypes"
   ]
  },
  {
   "cell_type": "markdown",
   "metadata": {},
   "source": [
    "### Save used sample to file"
   ]
  },
  {
   "cell_type": "code",
   "execution_count": 4,
   "metadata": {},
   "outputs": [],
   "source": [
    "import datetime\n",
    "\n",
    "now = '../data/samples/'+str(datetime.datetime.utcnow().isoformat(timespec=\"seconds\"))+'Z.csv'\n",
    "now\n",
    "df3.to_csv(now)"
   ]
  },
  {
   "cell_type": "markdown",
   "metadata": {},
   "source": [
    "### Try Tpot"
   ]
  },
  {
   "cell_type": "code",
   "execution_count": 6,
   "metadata": {},
   "outputs": [
    {
     "name": "stdout",
     "output_type": "stream",
     "text": [
      "160000\n",
      "Warning: xgboost.XGBClassifier is not available and will not be used by TPOT.\n"
     ]
    },
    {
     "data": {
      "application/vnd.jupyter.widget-view+json": {
       "model_id": "",
       "version_major": 2,
       "version_minor": 0
      },
      "text/plain": [
       "HBox(children=(FloatProgress(value=0.0, description='Optimization Progress', max=140.0, style=ProgressStyle(de…"
      ]
     },
     "metadata": {},
     "output_type": "display_data"
    },
    {
     "name": "stdout",
     "output_type": "stream",
     "text": [
      "\n",
      "Generation 1 - Current best internal CV score: 0.63648125\n",
      "Generation 2 - Current best internal CV score: 0.64100625\n",
      "Generation 3 - Current best internal CV score: 0.64100625\n",
      "Best pipeline: ExtraTreesClassifier(input_matrix, bootstrap=False, criterion=gini, max_features=0.7000000000000001, min_samples_leaf=10, min_samples_split=8, n_estimators=100)\n",
      "0.648375\n"
     ]
    }
   ],
   "source": [
    "df4 = df3.copy().sample(200000)\n",
    "\n",
    "from tpot import TPOTClassifier\n",
    "from sklearn.model_selection import train_test_split\n",
    "\n",
    "df4 = df4.dropna()\n",
    "\n",
    "X_train, X_test, y_train, y_test = train_test_split(df4.drop(\"differenceInMinutes\", axis=1), df4['differenceInMinutes'],\n",
    "                                                    train_size=0.80, test_size=0.20, random_state=64)\n",
    "\n",
    "X_train, X_test, y_train, y_test = train_test_split(df4.drop(\"differenceInMinutes\", axis=1), df4['differenceInMinutes'],\n",
    "                                                    train_size=0.80, test_size=0.20, random_state=64)\n",
    "print(len(X_train))\n",
    "tpot = TPOTClassifier(generations=3, population_size=35, verbosity=2, random_state=42)\n",
    "tpot.fit(X_train, y_train)\n",
    "print(tpot.score(X_test, y_test))\n",
    "tpot.export('../data/tpot_pipeline_200k.py')"
   ]
  },
  {
   "cell_type": "markdown",
   "metadata": {},
   "source": [
    "### New Extra trees model 15.10.2020"
   ]
  },
  {
   "cell_type": "code",
   "execution_count": 6,
   "metadata": {},
   "outputs": [
    {
     "data": {
      "text/html": [
       "<div>\n",
       "<style scoped>\n",
       "    .dataframe tbody tr th:only-of-type {\n",
       "        vertical-align: middle;\n",
       "    }\n",
       "\n",
       "    .dataframe tbody tr th {\n",
       "        vertical-align: top;\n",
       "    }\n",
       "\n",
       "    .dataframe thead th {\n",
       "        text-align: right;\n",
       "    }\n",
       "</style>\n",
       "<table border=\"1\" class=\"dataframe\">\n",
       "  <thead>\n",
       "    <tr style=\"text-align: right;\">\n",
       "      <th></th>\n",
       "      <th>Unnamed: 0</th>\n",
       "      <th>commuterLineID</th>\n",
       "      <th>stationShortCode</th>\n",
       "      <th>differenceInMinutes</th>\n",
       "      <th>weather_area</th>\n",
       "      <th>year</th>\n",
       "      <th>month</th>\n",
       "      <th>day</th>\n",
       "      <th>hour</th>\n",
       "      <th>direction</th>\n",
       "      <th>weekday</th>\n",
       "      <th>rain</th>\n",
       "      <th>celcius</th>\n",
       "      <th>windGustSpeed</th>\n",
       "      <th>windSpeed</th>\n",
       "    </tr>\n",
       "  </thead>\n",
       "  <tbody>\n",
       "    <tr>\n",
       "      <th>0</th>\n",
       "      <td>7667397</td>\n",
       "      <td>6</td>\n",
       "      <td>45</td>\n",
       "      <td>0</td>\n",
       "      <td>1</td>\n",
       "      <td>2019</td>\n",
       "      <td>9</td>\n",
       "      <td>13</td>\n",
       "      <td>20</td>\n",
       "      <td>1</td>\n",
       "      <td>4</td>\n",
       "      <td>0</td>\n",
       "      <td>8</td>\n",
       "      <td>6</td>\n",
       "      <td>4</td>\n",
       "    </tr>\n",
       "    <tr>\n",
       "      <th>1</th>\n",
       "      <td>1222405</td>\n",
       "      <td>9</td>\n",
       "      <td>8</td>\n",
       "      <td>1</td>\n",
       "      <td>1</td>\n",
       "      <td>2017</td>\n",
       "      <td>2</td>\n",
       "      <td>20</td>\n",
       "      <td>19</td>\n",
       "      <td>1</td>\n",
       "      <td>0</td>\n",
       "      <td>0</td>\n",
       "      <td>-1</td>\n",
       "      <td>4</td>\n",
       "      <td>3</td>\n",
       "    </tr>\n",
       "    <tr>\n",
       "      <th>2</th>\n",
       "      <td>9635053</td>\n",
       "      <td>3</td>\n",
       "      <td>51</td>\n",
       "      <td>0</td>\n",
       "      <td>1</td>\n",
       "      <td>2019</td>\n",
       "      <td>7</td>\n",
       "      <td>23</td>\n",
       "      <td>8</td>\n",
       "      <td>1</td>\n",
       "      <td>1</td>\n",
       "      <td>0</td>\n",
       "      <td>24</td>\n",
       "      <td>3</td>\n",
       "      <td>1</td>\n",
       "    </tr>\n",
       "    <tr>\n",
       "      <th>3</th>\n",
       "      <td>9383652</td>\n",
       "      <td>5</td>\n",
       "      <td>28</td>\n",
       "      <td>2</td>\n",
       "      <td>2</td>\n",
       "      <td>2017</td>\n",
       "      <td>9</td>\n",
       "      <td>6</td>\n",
       "      <td>22</td>\n",
       "      <td>1</td>\n",
       "      <td>2</td>\n",
       "      <td>0</td>\n",
       "      <td>9</td>\n",
       "      <td>6</td>\n",
       "      <td>3</td>\n",
       "    </tr>\n",
       "    <tr>\n",
       "      <th>4</th>\n",
       "      <td>3545988</td>\n",
       "      <td>9</td>\n",
       "      <td>19</td>\n",
       "      <td>0</td>\n",
       "      <td>2</td>\n",
       "      <td>2017</td>\n",
       "      <td>3</td>\n",
       "      <td>27</td>\n",
       "      <td>6</td>\n",
       "      <td>1</td>\n",
       "      <td>0</td>\n",
       "      <td>0</td>\n",
       "      <td>3</td>\n",
       "      <td>10</td>\n",
       "      <td>6</td>\n",
       "    </tr>\n",
       "    <tr>\n",
       "      <th>...</th>\n",
       "      <td>...</td>\n",
       "      <td>...</td>\n",
       "      <td>...</td>\n",
       "      <td>...</td>\n",
       "      <td>...</td>\n",
       "      <td>...</td>\n",
       "      <td>...</td>\n",
       "      <td>...</td>\n",
       "      <td>...</td>\n",
       "      <td>...</td>\n",
       "      <td>...</td>\n",
       "      <td>...</td>\n",
       "      <td>...</td>\n",
       "      <td>...</td>\n",
       "      <td>...</td>\n",
       "    </tr>\n",
       "    <tr>\n",
       "      <th>2499995</th>\n",
       "      <td>3938282</td>\n",
       "      <td>4</td>\n",
       "      <td>38</td>\n",
       "      <td>1</td>\n",
       "      <td>1</td>\n",
       "      <td>2019</td>\n",
       "      <td>2</td>\n",
       "      <td>11</td>\n",
       "      <td>14</td>\n",
       "      <td>0</td>\n",
       "      <td>0</td>\n",
       "      <td>0</td>\n",
       "      <td>0</td>\n",
       "      <td>1</td>\n",
       "      <td>0</td>\n",
       "    </tr>\n",
       "    <tr>\n",
       "      <th>2499996</th>\n",
       "      <td>8756245</td>\n",
       "      <td>6</td>\n",
       "      <td>38</td>\n",
       "      <td>0</td>\n",
       "      <td>1</td>\n",
       "      <td>2018</td>\n",
       "      <td>7</td>\n",
       "      <td>12</td>\n",
       "      <td>5</td>\n",
       "      <td>1</td>\n",
       "      <td>3</td>\n",
       "      <td>0</td>\n",
       "      <td>18</td>\n",
       "      <td>2</td>\n",
       "      <td>1</td>\n",
       "    </tr>\n",
       "    <tr>\n",
       "      <th>2499997</th>\n",
       "      <td>9519985</td>\n",
       "      <td>6</td>\n",
       "      <td>51</td>\n",
       "      <td>2</td>\n",
       "      <td>1</td>\n",
       "      <td>2017</td>\n",
       "      <td>11</td>\n",
       "      <td>3</td>\n",
       "      <td>20</td>\n",
       "      <td>1</td>\n",
       "      <td>4</td>\n",
       "      <td>0</td>\n",
       "      <td>1</td>\n",
       "      <td>4</td>\n",
       "      <td>4</td>\n",
       "    </tr>\n",
       "    <tr>\n",
       "      <th>2499998</th>\n",
       "      <td>682282</td>\n",
       "      <td>7</td>\n",
       "      <td>17</td>\n",
       "      <td>1</td>\n",
       "      <td>1</td>\n",
       "      <td>2019</td>\n",
       "      <td>12</td>\n",
       "      <td>14</td>\n",
       "      <td>5</td>\n",
       "      <td>1</td>\n",
       "      <td>5</td>\n",
       "      <td>0</td>\n",
       "      <td>2</td>\n",
       "      <td>9</td>\n",
       "      <td>6</td>\n",
       "    </tr>\n",
       "    <tr>\n",
       "      <th>2499999</th>\n",
       "      <td>8763388</td>\n",
       "      <td>11</td>\n",
       "      <td>51</td>\n",
       "      <td>1</td>\n",
       "      <td>1</td>\n",
       "      <td>2018</td>\n",
       "      <td>7</td>\n",
       "      <td>12</td>\n",
       "      <td>20</td>\n",
       "      <td>0</td>\n",
       "      <td>3</td>\n",
       "      <td>0</td>\n",
       "      <td>20</td>\n",
       "      <td>1</td>\n",
       "      <td>1</td>\n",
       "    </tr>\n",
       "  </tbody>\n",
       "</table>\n",
       "<p>2500000 rows × 15 columns</p>\n",
       "</div>"
      ],
      "text/plain": [
       "         Unnamed: 0  commuterLineID  stationShortCode  differenceInMinutes  \\\n",
       "0           7667397               6                45                    0   \n",
       "1           1222405               9                 8                    1   \n",
       "2           9635053               3                51                    0   \n",
       "3           9383652               5                28                    2   \n",
       "4           3545988               9                19                    0   \n",
       "...             ...             ...               ...                  ...   \n",
       "2499995     3938282               4                38                    1   \n",
       "2499996     8756245               6                38                    0   \n",
       "2499997     9519985               6                51                    2   \n",
       "2499998      682282               7                17                    1   \n",
       "2499999     8763388              11                51                    1   \n",
       "\n",
       "         weather_area  year  month  day  hour  direction  weekday  rain  \\\n",
       "0                   1  2019      9   13    20          1        4     0   \n",
       "1                   1  2017      2   20    19          1        0     0   \n",
       "2                   1  2019      7   23     8          1        1     0   \n",
       "3                   2  2017      9    6    22          1        2     0   \n",
       "4                   2  2017      3   27     6          1        0     0   \n",
       "...               ...   ...    ...  ...   ...        ...      ...   ...   \n",
       "2499995             1  2019      2   11    14          0        0     0   \n",
       "2499996             1  2018      7   12     5          1        3     0   \n",
       "2499997             1  2017     11    3    20          1        4     0   \n",
       "2499998             1  2019     12   14     5          1        5     0   \n",
       "2499999             1  2018      7   12    20          0        3     0   \n",
       "\n",
       "         celcius  windGustSpeed  windSpeed  \n",
       "0              8              6          4  \n",
       "1             -1              4          3  \n",
       "2             24              3          1  \n",
       "3              9              6          3  \n",
       "4              3             10          6  \n",
       "...          ...            ...        ...  \n",
       "2499995        0              1          0  \n",
       "2499996       18              2          1  \n",
       "2499997        1              4          4  \n",
       "2499998        2              9          6  \n",
       "2499999       20              1          1  \n",
       "\n",
       "[2500000 rows x 15 columns]"
      ]
     },
     "execution_count": 6,
     "metadata": {},
     "output_type": "execute_result"
    }
   ],
   "source": [
    "import datetime\n",
    "import pandas as pd\n",
    "\n",
    "df5 = pd.read_csv(\"../data/samples/2020-10-14T13:25:59Z.csv\") \n",
    "df5"
   ]
  },
  {
   "cell_type": "code",
   "execution_count": 7,
   "metadata": {
    "scrolled": true
   },
   "outputs": [],
   "source": [
    "from sklearn.ensemble import ExtraTreesClassifier\n",
    "import sklearn\n",
    "from sklearn.model_selection import train_test_split\n",
    "\n",
    "\n",
    "X_train5, X_test5, y_train5, y_test5 = train_test_split(df5.drop(\"differenceInMinutes\", axis=1), df5['differenceInMinutes'],\n",
    "                                                    train_size=0.80, test_size=0.20, random_state=66)\n",
    "et5 = ExtraTreesClassifier(bootstrap=False, criterion='gini', max_features=0.7000000000000001, min_samples_leaf=10, min_samples_split=8, n_estimators=100)"
   ]
  },
  {
   "cell_type": "code",
   "execution_count": 8,
   "metadata": {},
   "outputs": [
    {
     "data": {
      "text/plain": [
       "ExtraTreesClassifier(bootstrap=False, ccp_alpha=0.0, class_weight=None,\n",
       "                     criterion='gini', max_depth=None,\n",
       "                     max_features=0.7000000000000001, max_leaf_nodes=None,\n",
       "                     max_samples=None, min_impurity_decrease=0.0,\n",
       "                     min_impurity_split=None, min_samples_leaf=10,\n",
       "                     min_samples_split=8, min_weight_fraction_leaf=0.0,\n",
       "                     n_estimators=100, n_jobs=None, oob_score=False,\n",
       "                     random_state=None, verbose=0, warm_start=False)"
      ]
     },
     "execution_count": 8,
     "metadata": {},
     "output_type": "execute_result"
    }
   ],
   "source": [
    "et5.fit(X_train5, y_train5)"
   ]
  },
  {
   "cell_type": "code",
   "execution_count": 9,
   "metadata": {},
   "outputs": [],
   "source": [
    "y_predtrain_et5 = et5.predict(X_train5)\n",
    "\n",
    "train_error_et5 = sklearn.metrics.zero_one_loss(y_train5, y_predtrain_et5)\n",
    "y_pred_et5 = et5.predict(X_test5)\n",
    "test_error_et5 = sklearn.metrics.zero_one_loss(y_test5, y_pred_et5)"
   ]
  },
  {
   "cell_type": "code",
   "execution_count": 10,
   "metadata": {},
   "outputs": [
    {
     "data": {
      "image/png": "[encoded data removed]",
      "text/plain": [
       "<Figure size 288x288 with 1 Axes>"
      ]
     },
     "metadata": {
      "needs_background": "light"
     },
     "output_type": "display_data"
    }
   ],
   "source": [
    "import matplotlib.pyplot as plt\n",
    "\n",
    "plt.matshow(sklearn.metrics.confusion_matrix(y_test5, y_pred_et5))\n",
    "plt.title(\"Extra trees 5: training error = %.2f, test error = %.2f\" % (train_error_et5, test_error_et5))\n",
    "plt.show()"
   ]
  },
  {
   "cell_type": "code",
   "execution_count": 11,
   "metadata": {},
   "outputs": [
    {
     "data": {
      "text/plain": [
       "['../data/ml-models/et2020-10-15T06:56:39Z']"
      ]
     },
     "execution_count": 11,
     "metadata": {},
     "output_type": "execute_result"
    }
   ],
   "source": [
    "from joblib import dump, load\n",
    "\n",
    "model_path = '../data/ml-models/et'+str(datetime.datetime.utcnow().isoformat(timespec=\"seconds\"))+'Z'\n",
    "dump(et5, model_path) "
   ]
  },
  {
   "cell_type": "markdown",
   "metadata": {},
   "source": [
    "### Testing random forest model (15.10.2020)\n",
    "\n",
    "Previously 100 trees used, which is the default setting\n",
    "\n",
    "Lets try some other tree amounts, other parameters taken from extra trees recommendations"
   ]
  },
  {
   "cell_type": "code",
   "execution_count": 15,
   "metadata": {},
   "outputs": [
    {
     "name": "stdout",
     "output_type": "stream",
     "text": [
      "10 tree random forest prediction gives accuracy score: 0.65\n",
      "20 tree random forest prediction gives accuracy score: 0.66\n",
      "30 tree random forest prediction gives accuracy score: 0.66\n",
      "40 tree random forest prediction gives accuracy score: 0.66\n",
      "50 tree random forest prediction gives accuracy score: 0.66\n",
      "60 tree random forest prediction gives accuracy score: 0.66\n",
      "70 tree random forest prediction gives accuracy score: 0.66\n",
      "80 tree random forest prediction gives accuracy score: 0.66\n",
      "90 tree random forest prediction gives accuracy score: 0.66\n",
      "100 tree random forest prediction gives accuracy score: 0.66\n",
      "110 tree random forest prediction gives accuracy score: 0.66\n",
      "120 tree random forest prediction gives accuracy score: 0.66\n",
      "130 tree random forest prediction gives accuracy score: 0.66\n",
      "140 tree random forest prediction gives accuracy score: 0.66\n",
      "150 tree random forest prediction gives accuracy score: 0.66\n",
      "160 tree random forest prediction gives accuracy score: 0.66\n",
      "170 tree random forest prediction gives accuracy score: 0.66\n",
      "180 tree random forest prediction gives accuracy score: 0.66\n",
      "190 tree random forest prediction gives accuracy score: 0.66\n",
      "200 tree random forest prediction gives accuracy score: 0.66\n"
     ]
    },
    {
     "data": {
      "image/png": "[encoded data removed]",
      "text/plain": [
       "<Figure size 432x288 with 1 Axes>"
      ]
     },
     "metadata": {
      "needs_background": "light"
     },
     "output_type": "display_data"
    }
   ],
   "source": [
    "import numpy as np\n",
    "from sklearn.metrics import accuracy_score\n",
    "import matplotlib.pyplot as plt\n",
    "\n",
    "# previously 100 trees used, default setting\n",
    "def random_forest_analysis(X_train, X_test, y_train, y_test):\n",
    "    train_vect = np.arange(10, 210, 10).tolist()\n",
    "    result_x = []\n",
    "    result_y = []\n",
    "    for tree_amount in train_vect:\n",
    "        model = RandomForestClassifier(n_estimators=tree_amount, max_features=0.70, criterion='gini', bootstrap=False,  min_samples_leaf=10, min_samples_split=8)\n",
    "        model.fit(X_train, y_train)\n",
    "        prediction = model.predict(X_test)\n",
    "        # print('Predictions:', prediction)\n",
    "        # print('Expected:', y_test)\n",
    "        accuracy = round(accuracy_score(y_test, prediction), 2)\n",
    "        print(tree_amount, 'tree random forest prediction gives accuracy score:', accuracy)\n",
    "        result_x.append(tree_amount)\n",
    "        result_y.append(accuracy)\n",
    "    plt.plot(result_x, result_y)\n",
    "    plt.title(\"Random forest accuracy by tree amount\")\n",
    "    plt.xlabel(\"Tree amount\")\n",
    "    plt.ylabel(\"Accuracy %\")\n",
    "    plt.show()\n",
    "    \n",
    "random_forest_analysis(X_train5, X_test5, y_train5, y_test5)"
   ]
  },
  {
   "cell_type": "markdown",
   "metadata": {},
   "source": [
    "### New rf6 model that is saved with 50 trees, 16.10.2020"
   ]
  },
  {
   "cell_type": "code",
   "execution_count": 17,
   "metadata": {},
   "outputs": [
    {
     "ename": "NameError",
     "evalue": "name 'model' is not defined",
     "output_type": "error",
     "traceback": [
      "\u001b[0;31m---------------------------------------------------------------------------\u001b[0m",
      "\u001b[0;31mNameError\u001b[0m                                 Traceback (most recent call last)",
      "\u001b[0;32m<ipython-input-17-66d625f80d90>\u001b[0m in \u001b[0;36m<module>\u001b[0;34m\u001b[0m\n\u001b[1;32m      1\u001b[0m \u001b[0mrf6\u001b[0m \u001b[0;34m=\u001b[0m \u001b[0mRandomForestClassifier\u001b[0m\u001b[0;34m(\u001b[0m\u001b[0mn_estimators\u001b[0m\u001b[0;34m=\u001b[0m\u001b[0;36m50\u001b[0m\u001b[0;34m,\u001b[0m \u001b[0mmax_features\u001b[0m\u001b[0;34m=\u001b[0m\u001b[0;36m0.70\u001b[0m\u001b[0;34m,\u001b[0m \u001b[0mcriterion\u001b[0m\u001b[0;34m=\u001b[0m\u001b[0;34m'gini'\u001b[0m\u001b[0;34m,\u001b[0m \u001b[0mbootstrap\u001b[0m\u001b[0;34m=\u001b[0m\u001b[0;32mFalse\u001b[0m\u001b[0;34m,\u001b[0m  \u001b[0mmin_samples_leaf\u001b[0m\u001b[0;34m=\u001b[0m\u001b[0;36m10\u001b[0m\u001b[0;34m,\u001b[0m \u001b[0mmin_samples_split\u001b[0m\u001b[0;34m=\u001b[0m\u001b[0;36m8\u001b[0m\u001b[0;34m)\u001b[0m\u001b[0;34m\u001b[0m\u001b[0;34m\u001b[0m\u001b[0m\n\u001b[1;32m      2\u001b[0m \u001b[0mrf6\u001b[0m\u001b[0;34m.\u001b[0m\u001b[0mfit\u001b[0m\u001b[0;34m(\u001b[0m\u001b[0mX_train5\u001b[0m\u001b[0;34m,\u001b[0m \u001b[0my_train5\u001b[0m\u001b[0;34m)\u001b[0m\u001b[0;34m\u001b[0m\u001b[0;34m\u001b[0m\u001b[0m\n\u001b[0;32m----> 3\u001b[0;31m \u001b[0mprediction6\u001b[0m \u001b[0;34m=\u001b[0m \u001b[0mmodel\u001b[0m\u001b[0;34m.\u001b[0m\u001b[0mpredict\u001b[0m\u001b[0;34m(\u001b[0m\u001b[0mX_test5\u001b[0m\u001b[0;34m)\u001b[0m\u001b[0;34m\u001b[0m\u001b[0;34m\u001b[0m\u001b[0m\n\u001b[0m\u001b[1;32m      4\u001b[0m \u001b[0;31m# print('Predictions:', prediction)\u001b[0m\u001b[0;34m\u001b[0m\u001b[0;34m\u001b[0m\u001b[0;34m\u001b[0m\u001b[0m\n\u001b[1;32m      5\u001b[0m \u001b[0;31m# print('Expected:', y_test)\u001b[0m\u001b[0;34m\u001b[0m\u001b[0;34m\u001b[0m\u001b[0;34m\u001b[0m\u001b[0m\n",
      "\u001b[0;31mNameError\u001b[0m: name 'model' is not defined"
     ]
    }
   ],
   "source": [
    "        rf6 = RandomForestClassifier(n_estimators=50, max_features=0.70, criterion='gini', bootstrap=False,  min_samples_leaf=10, min_samples_split=8)\n",
    "        rf6.fit(X_train5, y_train5)\n"
   ]
  },
  {
   "cell_type": "code",
   "execution_count": 18,
   "metadata": {},
   "outputs": [
    {
     "name": "stdout",
     "output_type": "stream",
     "text": [
      "50 tree random forest prediction gives accuracy score: 0.66\n"
     ]
    }
   ],
   "source": [
    "        prediction6 = rf6.predict(X_test5)\n",
    "        # print('Predictions:', prediction)\n",
    "        # print('Expected:', y_test)\n",
    "        accuracy6 = round(accuracy_score(y_test5, prediction6), 2)\n",
    "        print('50 tree random forest prediction gives accuracy score:', accuracy6)"
   ]
  },
  {
   "cell_type": "code",
   "execution_count": 19,
   "metadata": {},
   "outputs": [
    {
     "data": {
      "text/plain": [
       "['../data/ml-models/rf2020-10-16T07:16:56Z']"
      ]
     },
     "execution_count": 19,
     "metadata": {},
     "output_type": "execute_result"
    }
   ],
   "source": [
    "from joblib import dump, load\n",
    "model_path = '../data/ml-models/rf'+str(datetime.datetime.utcnow().isoformat(timespec=\"seconds\"))+'Z'\n",
    "\n",
    "dump(rf6, model_path) "
   ]
  },
  {
   "cell_type": "markdown",
   "metadata": {},
   "source": [
    "Mallin koko taas iso 1.2 GB, mikä sen tekee?"
   ]
  },
  {
   "cell_type": "code",
   "execution_count": 21,
   "metadata": {},
   "outputs": [
    {
     "ename": "NameError",
     "evalue": "name 'prediction7' is not defined",
     "output_type": "error",
     "traceback": [
      "\u001b[0;31m---------------------------------------------------------------------------\u001b[0m",
      "\u001b[0;31mNameError\u001b[0m                                 Traceback (most recent call last)",
      "\u001b[0;32m<ipython-input-21-f8e3b5431658>\u001b[0m in \u001b[0;36m<module>\u001b[0;34m\u001b[0m\n\u001b[1;32m      4\u001b[0m \u001b[0;31m# print('Predictions:', prediction)\u001b[0m\u001b[0;34m\u001b[0m\u001b[0;34m\u001b[0m\u001b[0;34m\u001b[0m\u001b[0m\n\u001b[1;32m      5\u001b[0m \u001b[0;31m# print('Expected:', y_test)\u001b[0m\u001b[0;34m\u001b[0m\u001b[0;34m\u001b[0m\u001b[0;34m\u001b[0m\u001b[0m\n\u001b[0;32m----> 6\u001b[0;31m \u001b[0maccuracy7\u001b[0m \u001b[0;34m=\u001b[0m \u001b[0mround\u001b[0m\u001b[0;34m(\u001b[0m\u001b[0maccuracy_score\u001b[0m\u001b[0;34m(\u001b[0m\u001b[0my_test5\u001b[0m\u001b[0;34m,\u001b[0m \u001b[0mprediction7\u001b[0m\u001b[0;34m)\u001b[0m\u001b[0;34m,\u001b[0m \u001b[0;36m2\u001b[0m\u001b[0;34m)\u001b[0m\u001b[0;34m\u001b[0m\u001b[0;34m\u001b[0m\u001b[0m\n\u001b[0m\u001b[1;32m      7\u001b[0m \u001b[0mprint\u001b[0m\u001b[0;34m(\u001b[0m\u001b[0;34m'50 tree random forest prediction max depth 12 gives accuracy score:'\u001b[0m\u001b[0;34m,\u001b[0m \u001b[0maccuracy7\u001b[0m\u001b[0;34m)\u001b[0m\u001b[0;34m\u001b[0m\u001b[0;34m\u001b[0m\u001b[0m\n\u001b[1;32m      8\u001b[0m \u001b[0;34m\u001b[0m\u001b[0m\n",
      "\u001b[0;31mNameError\u001b[0m: name 'prediction7' is not defined"
     ]
    }
   ],
   "source": [
    "rf7 = RandomForestClassifier(max_depth=12, n_estimators=50, max_features=0.70, criterion='gini', bootstrap=False,  min_samples_leaf=10, min_samples_split=8)\n",
    "rf7.fit(X_train5, y_train5)\n",
    "\n"
   ]
  },
  {
   "cell_type": "code",
   "execution_count": 22,
   "metadata": {},
   "outputs": [
    {
     "name": "stdout",
     "output_type": "stream",
     "text": [
      "50 tree random forest prediction max depth 12 gives accuracy score: 0.63\n"
     ]
    },
    {
     "data": {
      "text/plain": [
       "['../data/ml-models/rf2020-10-16T08:27:55Z']"
      ]
     },
     "execution_count": 22,
     "metadata": {},
     "output_type": "execute_result"
    }
   ],
   "source": [
    "prediction7 = rf7.predict(X_test5)\n",
    "# print('Predictions:', prediction)\n",
    "# print('Expected:', y_test)\n",
    "accuracy7 = round(accuracy_score(y_test5, prediction7), 2)\n",
    "print('50 tree random forest prediction max depth 12 gives accuracy score:', accuracy7)\n",
    "\n",
    "model_path = '../data/ml-models/rf'+str(datetime.datetime.utcnow().isoformat(timespec=\"seconds\"))+'Z'\n",
    "\n",
    "dump(rf7, model_path) "
   ]
  },
  {
   "cell_type": "markdown",
   "metadata": {},
   "source": [
    "50 tree random forest prediction max depth 12 gives accuracy score: 0.63, file size 25.8 MB\n",
    "10 max_depth, 50 tree, 2.5 milj row random forest prediction gives accuracy score: 0.61 ekalla\n",
    "\n",
    "toka kierros:\n",
    "10 max_depth, 50 tree, 2.5 milj row random forest prediction gives accuracy score: 0.6, file size 7.7 MB\n",
    "11 max_depth, 50 tree, 2.5 milj row random forest prediction gives accuracy score: 0.62, file size 14.6 MB\n",
    "12 max_depth, 50 tree, 2.5 milj row random forest prediction gives accuracy score: 0.63, file size 25.6 MB\n",
    "13 max_depth, 50 tree, 2.5 milj row random forest prediction gives accuracy score: 0.64, file size 44 MB\n",
    "14 max_depth, 50 tree, 2.5 milj row random forest prediction gives accuracy score: 0.65, file size 72.4 MB\n",
    "15 max_depth, 50 tree, 2.5 milj row random forest prediction gives accuracy score: 0.65, file size 110.4 MB\n",
    "16 max_depth, 50 tree, 2.5 milj row random forest prediction gives accuracy score: 0.65, file size 162 MB\n",
    "17 max_depth, 50 tree, 2.5 milj row random forest prediction gives accuracy score: 0.66, file size 223.7 MB\n",
    "18 max_depth, 50 tree, 2.5 milj row random forest prediction gives accuracy score: 0.66, file size 292.9 MB\n",
    "19 max_depth, 50 tree, 2.5 milj row random forest prediction gives accuracy score: 0.66, file size 381.6 MB\n",
    "20 max_depth, 50 tree, 2.5 milj row random forest prediction gives accuracy score: 0.66, file size 474.2 MB\n",
    "\n",
    "Paras hyötysuhde 14 max_depth"
   ]
  },
  {
   "cell_type": "code",
   "execution_count": 26,
   "metadata": {},
   "outputs": [
    {
     "name": "stdout",
     "output_type": "stream",
     "text": [
      "11 max_depth, 50 tree, 2.5 milj row random forest prediction gives accuracy score: 0.62\n",
      "12 max_depth, 50 tree, 2.5 milj row random forest prediction gives accuracy score: 0.63\n",
      "13 max_depth, 50 tree, 2.5 milj row random forest prediction gives accuracy score: 0.64\n",
      "14 max_depth, 50 tree, 2.5 milj row random forest prediction gives accuracy score: 0.65\n",
      "15 max_depth, 50 tree, 2.5 milj row random forest prediction gives accuracy score: 0.65\n",
      "16 max_depth, 50 tree, 2.5 milj row random forest prediction gives accuracy score: 0.65\n",
      "17 max_depth, 50 tree, 2.5 milj row random forest prediction gives accuracy score: 0.66\n",
      "18 max_depth, 50 tree, 2.5 milj row random forest prediction gives accuracy score: 0.66\n",
      "19 max_depth, 50 tree, 2.5 milj row random forest prediction gives accuracy score: 0.66\n"
     ]
    },
    {
     "data": {
      "image/png": "[encoded data removed]",
      "text/plain": [
       "<Figure size 432x288 with 1 Axes>"
      ]
     },
     "metadata": {
      "needs_background": "light"
     },
     "output_type": "display_data"
    }
   ],
   "source": [
    "import numpy as np\n",
    "from sklearn.metrics import accuracy_score\n",
    "import matplotlib.pyplot as plt\n",
    "\n",
    "# previously 100 trees used, default setting\n",
    "def random_forest_analysis(X_train, X_test, y_train, y_test):\n",
    "    train_vect = np.arange(11, 20, 1).tolist()\n",
    "    result_x = []\n",
    "    result_y = []\n",
    "    for max_depth in train_vect:\n",
    "        model = RandomForestClassifier(n_estimators=50, max_depth=max_depth, max_features=0.70, criterion='gini', bootstrap=False,  min_samples_leaf=10, min_samples_split=8)\n",
    "        model.fit(X_train, y_train)\n",
    "        prediction = model.predict(X_test)\n",
    "        # print('Predictions:', prediction)\n",
    "        # print('Expected:', y_test)\n",
    "        accuracy = round(accuracy_score(y_test, prediction), 2)\n",
    "        print(max_depth, 'max_depth, 50 tree, 2.5 milj row random forest prediction gives accuracy score:', accuracy)\n",
    "        result_x.append(max_depth)\n",
    "        result_y.append(accuracy)\n",
    "        model_path = f'../data/random-forest/rf-50tree-maxdepth-{max_depth}'\n",
    "        dump(model, model_path) \n",
    "    plt.plot(result_x, result_y)\n",
    "    plt.title(\"Random forest accuracy by max depth\")\n",
    "    plt.xlabel(\"Max depth\")\n",
    "    plt.ylabel(\"Accuracy %\")\n",
    "    plt.show()\n",
    "    \n",
    "random_forest_analysis(X_train5, X_test5, y_train5, y_test5)"
   ]
  },
  {
   "cell_type": "code",
   "execution_count": 39,
   "metadata": {},
   "outputs": [
    {
     "data": {
      "image/png": "[encoded data removed]",
      "text/plain": [
       "<Figure size 432x288 with 1 Axes>"
      ]
     },
     "metadata": {
      "needs_background": "light"
     },
     "output_type": "display_data"
    }
   ],
   "source": [
    "train_vect = np.arange(10, 21, 1).tolist()\n",
    "file_sizes = [7.7, 14.6, 25.6, 44, 72.4, 110.4, 162, 223.7, 292.9, 381.6, 474.2]\n",
    "plt.plot(train_vect, file_sizes)\n",
    "plt.title(\"Random forest file size by max depth (50 trees, 2.5 M rows)\")\n",
    "plt.xlabel(\"Max depth\")\n",
    "plt.ylabel(\"file size (MB)\")\n",
    "plt.show()"
   ]
  },
  {
   "cell_type": "markdown",
   "metadata": {},
   "source": [
    "### More rows rf8 random forest 8\n",
    "5 milj rows, 50 trees, max depth 14\n"
   ]
  },
  {
   "cell_type": "code",
   "execution_count": 27,
   "metadata": {},
   "outputs": [
    {
     "name": "stderr",
     "output_type": "stream",
     "text": [
      "/home/hdheli/anaconda3/lib/python3.7/site-packages/IPython/core/interactiveshell.py:3063: DtypeWarning: Columns (2) have mixed types.Specify dtype option on import or set low_memory=False.\n",
      "  interactivity=interactivity, compiler=compiler, result=result)\n"
     ]
    },
    {
     "data": {
      "text/plain": [
       "commuterLineID          int8\n",
       "stationShortCode        int8\n",
       "differenceInMinutes    int64\n",
       "weather_area           int64\n",
       "year                   int64\n",
       "month                  int64\n",
       "day                    int64\n",
       "hour                   int64\n",
       "direction              int64\n",
       "weekday                int64\n",
       "rain                   int64\n",
       "celcius                int64\n",
       "windGustSpeed          int64\n",
       "windSpeed              int64\n",
       "dtype: object"
      ]
     },
     "execution_count": 27,
     "metadata": {},
     "output_type": "execute_result"
    }
   ],
   "source": [
    "merged = pd.read_csv(\"../data/merged/trains_and_weather.csv\") \n",
    "df8 = merged.copy().drop(columns=[\"categoryCode\",\"categoryCodeId\",\"detailedCategoryCode\",\"detailedCategoryCodeId\", \"commercialTrack\"])\n",
    "df8 = df8.copy().sample(5000000)\n",
    "df8 = df8.astype({'commuterLineID': 'category', 'stationShortCode': 'category'})\n",
    "categoryToNumeric = df8.select_dtypes(['category']).columns\n",
    "df8[categoryToNumeric] = df8[categoryToNumeric].apply(lambda x: x.cat.codes)\n",
    "df8.dtypes\n"
   ]
  },
  {
   "cell_type": "code",
   "execution_count": 28,
   "metadata": {},
   "outputs": [],
   "source": [
    "import datetime\n",
    "\n",
    "now = '../data/samples/'+str(datetime.datetime.utcnow().isoformat(timespec=\"seconds\"))+'Z.csv'\n",
    "now\n",
    "df8.to_csv(now)"
   ]
  },
  {
   "cell_type": "code",
   "execution_count": 29,
   "metadata": {},
   "outputs": [
    {
     "data": {
      "text/plain": [
       "RandomForestClassifier(bootstrap=False, ccp_alpha=0.0, class_weight=None,\n",
       "                       criterion='gini', max_depth=14, max_features=0.7,\n",
       "                       max_leaf_nodes=None, max_samples=None,\n",
       "                       min_impurity_decrease=0.0, min_impurity_split=None,\n",
       "                       min_samples_leaf=10, min_samples_split=8,\n",
       "                       min_weight_fraction_leaf=0.0, n_estimators=50,\n",
       "                       n_jobs=None, oob_score=False, random_state=None,\n",
       "                       verbose=0, warm_start=False)"
      ]
     },
     "execution_count": 29,
     "metadata": {},
     "output_type": "execute_result"
    }
   ],
   "source": [
    "import sklearn\n",
    "from sklearn.model_selection import train_test_split\n",
    "\n",
    "\n",
    "X_train8, X_test8, y_train8, y_test8 = train_test_split(df8.drop(\"differenceInMinutes\", axis=1), df8['differenceInMinutes'],\n",
    "                                                    train_size=0.80, test_size=0.20, random_state=66)\n",
    "\n",
    "rf8 = RandomForestClassifier(max_depth=14, n_estimators=50, max_features=0.70, criterion='gini', bootstrap=False,  min_samples_leaf=10, min_samples_split=8)\n",
    "rf8.fit(X_train8, y_train8)"
   ]
  },
  {
   "cell_type": "code",
   "execution_count": 30,
   "metadata": {},
   "outputs": [
    {
     "data": {
      "image/png": "[encoded data removed]",
      "text/plain": [
       "<Figure size 288x288 with 1 Axes>"
      ]
     },
     "metadata": {
      "needs_background": "light"
     },
     "output_type": "display_data"
    }
   ],
   "source": [
    "y_predtrain_rf8 = rf8.predict(X_train8)\n",
    "\n",
    "train_error_rf8 = sklearn.metrics.zero_one_loss(y_train8, y_predtrain_rf8)\n",
    "y_pred_rf8 = rf8.predict(X_test8)\n",
    "test_error_rf8 = sklearn.metrics.zero_one_loss(y_test8, y_pred_rf8)\n",
    "y_predtrain_rf8 = rf8.predict(X_train8)\n",
    "\n",
    "train_error_rf8 = sklearn.metrics.zero_one_loss(y_train8, y_predtrain_rf8)\n",
    "y_pred_rf8 = rf8.predict(X_test8)\n",
    "test_error_rf8 = sklearn.metrics.zero_one_loss(y_test8, y_pred_rf8)\n",
    "import matplotlib.pyplot as plt\n",
    "\n",
    "plt.matshow(sklearn.metrics.confusion_matrix(y_test8, y_pred_rf8))\n",
    "plt.title(\"Random forest 8: training error = %.2f, test error = %.2f\" % (train_error_rf8, test_error_rf8))\n",
    "plt.show()\n"
   ]
  },
  {
   "cell_type": "code",
   "execution_count": 31,
   "metadata": {},
   "outputs": [
    {
     "data": {
      "text/plain": [
       "['../data/random-forest/rf-50tree-maxdepth14-5miljrows']"
      ]
     },
     "execution_count": 31,
     "metadata": {},
     "output_type": "execute_result"
    }
   ],
   "source": [
    "model_path = f'../data/random-forest/rf-50tree-maxdepth14-5miljrows'\n",
    "dump(rf8, model_path) "
   ]
  },
  {
   "cell_type": "markdown",
   "metadata": {},
   "source": [
    "random forest: data 5 milj rows, 50 trees, 14 max depth, accuracy 0.65, file size 85.6 MB"
   ]
  },
  {
   "cell_type": "markdown",
   "metadata": {},
   "source": [
    "### Random forest 9: all in - use all data. 50 trees, 14 max depth"
   ]
  },
  {
   "cell_type": "code",
   "execution_count": 32,
   "metadata": {},
   "outputs": [
    {
     "name": "stderr",
     "output_type": "stream",
     "text": [
      "/home/hdheli/anaconda3/lib/python3.7/site-packages/IPython/core/interactiveshell.py:3063: DtypeWarning: Columns (2) have mixed types.Specify dtype option on import or set low_memory=False.\n",
      "  interactivity=interactivity, compiler=compiler, result=result)\n"
     ]
    },
    {
     "data": {
      "text/plain": [
       "commuterLineID          int8\n",
       "stationShortCode        int8\n",
       "differenceInMinutes    int64\n",
       "weather_area           int64\n",
       "year                   int64\n",
       "month                  int64\n",
       "day                    int64\n",
       "hour                   int64\n",
       "direction              int64\n",
       "weekday                int64\n",
       "rain                   int64\n",
       "celcius                int64\n",
       "windGustSpeed          int64\n",
       "windSpeed              int64\n",
       "dtype: object"
      ]
     },
     "execution_count": 32,
     "metadata": {},
     "output_type": "execute_result"
    }
   ],
   "source": [
    "merged = pd.read_csv(\"../data/merged/trains_and_weather.csv\") \n",
    "df9 = merged.copy().drop(columns=[\"categoryCode\",\"categoryCodeId\",\"detailedCategoryCode\",\"detailedCategoryCodeId\", \"commercialTrack\"])\n",
    "df9 = df9.astype({'commuterLineID': 'category', 'stationShortCode': 'category'})\n",
    "categoryToNumeric = df9.select_dtypes(['category']).columns\n",
    "df9[categoryToNumeric] = df9[categoryToNumeric].apply(lambda x: x.cat.codes)\n",
    "df9.dtypes\n"
   ]
  },
  {
   "cell_type": "code",
   "execution_count": 33,
   "metadata": {},
   "outputs": [],
   "source": [
    "import datetime\n",
    "\n",
    "now = '../data/samples/'+str(datetime.datetime.utcnow().isoformat(timespec=\"seconds\"))+'Z.csv'\n",
    "now\n",
    "df9.to_csv(now)"
   ]
  },
  {
   "cell_type": "code",
   "execution_count": 34,
   "metadata": {},
   "outputs": [
    {
     "data": {
      "text/plain": [
       "RandomForestClassifier(bootstrap=False, ccp_alpha=0.0, class_weight=None,\n",
       "                       criterion='gini', max_depth=14, max_features=0.7,\n",
       "                       max_leaf_nodes=None, max_samples=None,\n",
       "                       min_impurity_decrease=0.0, min_impurity_split=None,\n",
       "                       min_samples_leaf=10, min_samples_split=8,\n",
       "                       min_weight_fraction_leaf=0.0, n_estimators=50,\n",
       "                       n_jobs=None, oob_score=False, random_state=None,\n",
       "                       verbose=0, warm_start=False)"
      ]
     },
     "execution_count": 34,
     "metadata": {},
     "output_type": "execute_result"
    }
   ],
   "source": [
    "import sklearn\n",
    "from sklearn.model_selection import train_test_split\n",
    "\n",
    "\n",
    "X_train9, X_test9, y_train9, y_test9 = train_test_split(df9.drop(\"differenceInMinutes\", axis=1), df9['differenceInMinutes'],\n",
    "                                                    train_size=0.80, test_size=0.20, random_state=66)\n",
    "\n",
    "rf9 = RandomForestClassifier(max_depth=14, n_estimators=50, max_features=0.70, criterion='gini', bootstrap=False,  min_samples_leaf=10, min_samples_split=8)\n",
    "rf9.fit(X_train9, y_train9)"
   ]
  },
  {
   "cell_type": "code",
   "execution_count": 35,
   "metadata": {},
   "outputs": [
    {
     "data": {
      "image/png": "[encoded data removed]",
      "text/plain": [
       "<Figure size 288x288 with 1 Axes>"
      ]
     },
     "metadata": {
      "needs_background": "light"
     },
     "output_type": "display_data"
    }
   ],
   "source": [
    "y_predtrain_rf9 = rf9.predict(X_train9)\n",
    "\n",
    "train_error_rf9 = sklearn.metrics.zero_one_loss(y_train9, y_predtrain_rf9)\n",
    "y_pred_rf9 = rf9.predict(X_test9)\n",
    "test_error_rf9 = sklearn.metrics.zero_one_loss(y_test9, y_pred_rf9)\n",
    "y_predtrain_rf9 = rf9.predict(X_train9)\n",
    "\n",
    "train_error_rf9 = sklearn.metrics.zero_one_loss(y_train9, y_predtrain_rf9)\n",
    "y_pred_rf9 = rf9.predict(X_test9)\n",
    "test_error_rf9 = sklearn.metrics.zero_one_loss(y_test9, y_pred_rf9)\n",
    "import matplotlib.pyplot as plt\n",
    "\n",
    "plt.matshow(sklearn.metrics.confusion_matrix(y_test9, y_pred_rf9))\n",
    "plt.title(\"Random forest 9: training error = %.2f, test error = %.2f\" % (train_error_rf9, test_error_rf9))\n",
    "plt.show()"
   ]
  },
  {
   "cell_type": "code",
   "execution_count": 36,
   "metadata": {},
   "outputs": [
    {
     "data": {
      "text/plain": [
       "['../data/random-forest/rf-50tree-maxdepth14-alldata']"
      ]
     },
     "execution_count": 36,
     "metadata": {},
     "output_type": "execute_result"
    }
   ],
   "source": [
    "model_path = f'../data/random-forest/rf-50tree-maxdepth14-alldata'\n",
    "dump(rf9, model_path) "
   ]
  },
  {
   "cell_type": "markdown",
   "metadata": {},
   "source": [
    "random forest: data all rows, 50 trees, 14 max depth, accuracy 0.65, file size 96.9 MB"
   ]
  },
  {
   "cell_type": "markdown",
   "metadata": {},
   "source": [
    "### Make the model (old ones)"
   ]
  },
  {
   "cell_type": "code",
   "execution_count": 21,
   "metadata": {
    "scrolled": true
   },
   "outputs": [
    {
     "ename": "NameError",
     "evalue": "name 'sklearn' is not defined",
     "output_type": "error",
     "traceback": [
      "\u001b[0;31m---------------------------------------------------------------------------\u001b[0m",
      "\u001b[0;31mNameError\u001b[0m                                 Traceback (most recent call last)",
      "\u001b[0;32m<ipython-input-21-fe0b18056089>\u001b[0m in \u001b[0;36m<module>\u001b[0;34m\u001b[0m\n\u001b[1;32m      7\u001b[0m \u001b[0mrf3\u001b[0m\u001b[0;34m.\u001b[0m\u001b[0mfit\u001b[0m\u001b[0;34m(\u001b[0m\u001b[0mX_train\u001b[0m\u001b[0;34m,\u001b[0m \u001b[0my_train\u001b[0m\u001b[0;34m)\u001b[0m\u001b[0;34m\u001b[0m\u001b[0;34m\u001b[0m\u001b[0m\n\u001b[1;32m      8\u001b[0m \u001b[0my_predtrain_rf3\u001b[0m \u001b[0;34m=\u001b[0m \u001b[0mrf3\u001b[0m\u001b[0;34m.\u001b[0m\u001b[0mpredict\u001b[0m\u001b[0;34m(\u001b[0m\u001b[0mX_train\u001b[0m\u001b[0;34m)\u001b[0m\u001b[0;34m\u001b[0m\u001b[0;34m\u001b[0m\u001b[0m\n\u001b[0;32m----> 9\u001b[0;31m \u001b[0mtrain_error_rf3\u001b[0m \u001b[0;34m=\u001b[0m \u001b[0msklearn\u001b[0m\u001b[0;34m.\u001b[0m\u001b[0mmetrics\u001b[0m\u001b[0;34m.\u001b[0m\u001b[0mzero_one_loss\u001b[0m\u001b[0;34m(\u001b[0m\u001b[0my_train\u001b[0m\u001b[0;34m,\u001b[0m \u001b[0my_predtrain_rf3\u001b[0m\u001b[0;34m)\u001b[0m\u001b[0;34m\u001b[0m\u001b[0;34m\u001b[0m\u001b[0m\n\u001b[0m\u001b[1;32m     10\u001b[0m \u001b[0my_pred_rf3\u001b[0m \u001b[0;34m=\u001b[0m \u001b[0mrf3\u001b[0m\u001b[0;34m.\u001b[0m\u001b[0mpredict\u001b[0m\u001b[0;34m(\u001b[0m\u001b[0mX_test\u001b[0m\u001b[0;34m)\u001b[0m\u001b[0;34m\u001b[0m\u001b[0;34m\u001b[0m\u001b[0m\n\u001b[1;32m     11\u001b[0m \u001b[0mtest_error_rf3\u001b[0m \u001b[0;34m=\u001b[0m \u001b[0msklearn\u001b[0m\u001b[0;34m.\u001b[0m\u001b[0mmetrics\u001b[0m\u001b[0;34m.\u001b[0m\u001b[0mzero_one_loss\u001b[0m\u001b[0;34m(\u001b[0m\u001b[0my_test\u001b[0m\u001b[0;34m,\u001b[0m \u001b[0my_pred_rf3\u001b[0m\u001b[0;34m)\u001b[0m\u001b[0;34m\u001b[0m\u001b[0;34m\u001b[0m\u001b[0m\n",
      "\u001b[0;31mNameError\u001b[0m: name 'sklearn' is not defined"
     ]
    }
   ],
   "source": [
    "from sklearn.ensemble import RandomForestClassifier\n",
    "from sklearn.model_selection import train_test_split\n",
    "X_train, X_test, y_train, y_test = train_test_split(df3.drop(\"differenceInMinutes\", axis=1), df3['differenceInMinutes'],\n",
    "                                                    train_size=0.80, test_size=0.20, random_state=66)\n",
    "\n",
    "rf3 = RandomForestClassifier(max_depth=12, random_state=66, n_estimators=100)\n",
    "rf3.fit(X_train, y_train)\n",
    "y_predtrain_rf3 = rf3.predict(X_train)\n"
   ]
  },
  {
   "cell_type": "code",
   "execution_count": 1,
   "metadata": {},
   "outputs": [
    {
     "ename": "AttributeError",
     "evalue": "module 'sklearn' has no attribute 'metrics'",
     "output_type": "error",
     "traceback": [
      "\u001b[0;31m---------------------------------------------------------------------------\u001b[0m",
      "\u001b[0;31mAttributeError\u001b[0m                            Traceback (most recent call last)",
      "\u001b[0;32m<ipython-input-1-dd72576e0f4f>\u001b[0m in \u001b[0;36m<module>\u001b[0;34m\u001b[0m\n\u001b[1;32m      1\u001b[0m \u001b[0;32mimport\u001b[0m \u001b[0msklearn\u001b[0m\u001b[0;34m\u001b[0m\u001b[0;34m\u001b[0m\u001b[0m\n\u001b[1;32m      2\u001b[0m \u001b[0;34m\u001b[0m\u001b[0m\n\u001b[0;32m----> 3\u001b[0;31m \u001b[0mtrain_error_rf3\u001b[0m \u001b[0;34m=\u001b[0m \u001b[0msklearn\u001b[0m\u001b[0;34m.\u001b[0m\u001b[0mmetrics\u001b[0m\u001b[0;34m.\u001b[0m\u001b[0mzero_one_loss\u001b[0m\u001b[0;34m(\u001b[0m\u001b[0my_train\u001b[0m\u001b[0;34m,\u001b[0m \u001b[0my_predtrain_rf3\u001b[0m\u001b[0;34m)\u001b[0m\u001b[0;34m\u001b[0m\u001b[0;34m\u001b[0m\u001b[0m\n\u001b[0m\u001b[1;32m      4\u001b[0m \u001b[0my_pred_rf3\u001b[0m \u001b[0;34m=\u001b[0m \u001b[0mrf3\u001b[0m\u001b[0;34m.\u001b[0m\u001b[0mpredict\u001b[0m\u001b[0;34m(\u001b[0m\u001b[0mX_test\u001b[0m\u001b[0;34m)\u001b[0m\u001b[0;34m\u001b[0m\u001b[0;34m\u001b[0m\u001b[0m\n\u001b[1;32m      5\u001b[0m \u001b[0mtest_error_rf3\u001b[0m \u001b[0;34m=\u001b[0m \u001b[0msklearn\u001b[0m\u001b[0;34m.\u001b[0m\u001b[0mmetrics\u001b[0m\u001b[0;34m.\u001b[0m\u001b[0mzero_one_loss\u001b[0m\u001b[0;34m(\u001b[0m\u001b[0my_test\u001b[0m\u001b[0;34m,\u001b[0m \u001b[0my_pred_rf3\u001b[0m\u001b[0;34m)\u001b[0m\u001b[0;34m\u001b[0m\u001b[0;34m\u001b[0m\u001b[0m\n",
      "\u001b[0;31mAttributeError\u001b[0m: module 'sklearn' has no attribute 'metrics'"
     ]
    }
   ],
   "source": [
    "import sklearn\n",
    "\n",
    "train_error_rf3 = sklearn.metrics.zero_one_loss(y_train, y_predtrain_rf3)\n",
    "y_pred_rf3 = rf3.predict(X_test)\n",
    "test_error_rf3 = sklearn.metrics.zero_one_loss(y_test, y_pred_rf3)\n"
   ]
  },
  {
   "cell_type": "markdown",
   "metadata": {},
   "source": [
    "### Plot confusion matrix"
   ]
  },
  {
   "cell_type": "code",
   "execution_count": 24,
   "metadata": {},
   "outputs": [
    {
     "data": {
      "image/png": "[encoded data removed]",
      "text/plain": [
       "<Figure size 288x288 with 1 Axes>"
      ]
     },
     "metadata": {
      "needs_background": "light"
     },
     "output_type": "display_data"
    }
   ],
   "source": [
    "import matplotlib.pyplot as plt\n",
    "\n",
    "plt.matshow(sklearn.metrics.confusion_matrix(y_test, y_pred_rf3))\n",
    "plt.title(\"RFC 3: training error = %.2f, test error = %.2f\" % (train_error_rf3, test_error_rf3))\n",
    "plt.show()"
   ]
  },
  {
   "cell_type": "markdown",
   "metadata": {},
   "source": [
    "### Save the model"
   ]
  },
  {
   "cell_type": "code",
   "execution_count": 25,
   "metadata": {},
   "outputs": [
    {
     "data": {
      "text/plain": [
       "['../ml-models/rf2020-10-01T13:16:42Z.csv']"
      ]
     },
     "execution_count": 25,
     "metadata": {},
     "output_type": "execute_result"
    }
   ],
   "source": [
    "from joblib import dump, load\n",
    "model_path = '../data/ml-models/rf'+str(datetime.datetime.utcnow().isoformat(timespec=\"seconds\"))+'Z'\n",
    "\n",
    "dump(rf3, model_path) "
   ]
  },
  {
   "cell_type": "markdown",
   "metadata": {},
   "source": [
    "### Make another model: ExtraTreesClassifier\n",
    "\n",
    "Recommeded by Tpot as the Best pipeline: ExtraTreesClassifier(input_matrix, bootstrap=True, criterion=gini, max_features=0.9000000000000001, min_samples_leaf=5, min_samples_split=12, n_estimators=100)\n",
    "0.7155349051975411\n",
    "\n",
    "Changing the data to numeric. As the model fitting crashes if minutes are used as they are, I convert them to classes:\n",
    "\n",
    "0 = (minutes <= 0)\n",
    "1 = (0 < minutes < 3)\n",
    "2 = (3 <= minutes < 5)\n",
    "3 = (5 <= minutes < 10)\n",
    "4 = (10 <= minutes < 20)\n",
    "5 = (20 <= minutes < 30)\n",
    "6 = (30 <= minutes)\n"
   ]
  },
  {
   "cell_type": "code",
   "execution_count": 5,
   "metadata": {},
   "outputs": [
    {
     "data": {
      "text/plain": [
       "commuterLineID            int8\n",
       "stationShortCode          int8\n",
       "differenceInMinutes    float64\n",
       "weather_area             int64\n",
       "year                     int64\n",
       "month                    int64\n",
       "day                      int64\n",
       "hour                     int64\n",
       "direction                int64\n",
       "rain                   float64\n",
       "celcius                float64\n",
       "windGustSpeed          float64\n",
       "windSpeed              float64\n",
       "dtype: object"
      ]
     },
     "execution_count": 5,
     "metadata": {},
     "output_type": "execute_result"
    }
   ],
   "source": [
    "# Getting a new sample\n",
    "df4 = df2.copy().sample(2000000)\n",
    "df4 = df4.dropna()\n",
    "df4 = df4.astype({'commuterLineID': 'category', 'stationShortCode': 'category'})\n",
    "categoryToNumeric = df4.select_dtypes(['category']).columns\n",
    "df4[categoryToNumeric] = df4[categoryToNumeric].apply(lambda x: x.cat.codes)\n",
    "df4.dtypes"
   ]
  },
  {
   "cell_type": "code",
   "execution_count": 16,
   "metadata": {},
   "outputs": [],
   "source": [
    "# vlass devide is already done in the merge now\n",
    "def minutes_to_classes(minutes):\n",
    "    if minutes <= 0:\n",
    "        return 0\n",
    "    elif ((0 < minutes) & (minutes< 3)):\n",
    "        return 1\n",
    "    elif ((3 <= minutes) & (minutes < 5)):\n",
    "        return 2\n",
    "    elif ((5 <= minutes) & (minutes < 10)):\n",
    "        return 3\n",
    "    elif ((10 <= minutes) & (minutes < 20)):\n",
    "        return 4\n",
    "    elif ((20 <= minutes)&(minutes < 30)):\n",
    "        return 5\n",
    "    else:\n",
    "        return 6\n",
    "        \n",
    "df4['differenceMinsClasses'] =  df4['differenceInMinutes'].apply(lambda x: minutes_to_classes(x)) \n",
    "df4 = df4.drop(\"differenceInMinutes\", axis=1)"
   ]
  },
  {
   "cell_type": "code",
   "execution_count": 17,
   "metadata": {},
   "outputs": [
    {
     "data": {
      "text/html": [
       "<div>\n",
       "<style scoped>\n",
       "    .dataframe tbody tr th:only-of-type {\n",
       "        vertical-align: middle;\n",
       "    }\n",
       "\n",
       "    .dataframe tbody tr th {\n",
       "        vertical-align: top;\n",
       "    }\n",
       "\n",
       "    .dataframe thead th {\n",
       "        text-align: right;\n",
       "    }\n",
       "</style>\n",
       "<table border=\"1\" class=\"dataframe\">\n",
       "  <thead>\n",
       "    <tr style=\"text-align: right;\">\n",
       "      <th></th>\n",
       "      <th>commuterLineID</th>\n",
       "      <th>stationShortCode</th>\n",
       "      <th>weather_area</th>\n",
       "      <th>year</th>\n",
       "      <th>month</th>\n",
       "      <th>day</th>\n",
       "      <th>hour</th>\n",
       "      <th>direction</th>\n",
       "      <th>rain</th>\n",
       "      <th>celcius</th>\n",
       "      <th>windGustSpeed</th>\n",
       "      <th>windSpeed</th>\n",
       "      <th>differenceMinsClasses</th>\n",
       "    </tr>\n",
       "  </thead>\n",
       "  <tbody>\n",
       "    <tr>\n",
       "      <th>1745093</th>\n",
       "      <td>2</td>\n",
       "      <td>35</td>\n",
       "      <td>2</td>\n",
       "      <td>2019</td>\n",
       "      <td>12</td>\n",
       "      <td>31</td>\n",
       "      <td>16</td>\n",
       "      <td>0</td>\n",
       "      <td>0.0</td>\n",
       "      <td>0.1</td>\n",
       "      <td>11.6</td>\n",
       "      <td>7.7</td>\n",
       "      <td>0</td>\n",
       "    </tr>\n",
       "    <tr>\n",
       "      <th>10355112</th>\n",
       "      <td>7</td>\n",
       "      <td>0</td>\n",
       "      <td>1</td>\n",
       "      <td>2017</td>\n",
       "      <td>12</td>\n",
       "      <td>1</td>\n",
       "      <td>15</td>\n",
       "      <td>0</td>\n",
       "      <td>0.4</td>\n",
       "      <td>-0.3</td>\n",
       "      <td>9.6</td>\n",
       "      <td>5.8</td>\n",
       "      <td>2</td>\n",
       "    </tr>\n",
       "    <tr>\n",
       "      <th>6504334</th>\n",
       "      <td>9</td>\n",
       "      <td>63</td>\n",
       "      <td>2</td>\n",
       "      <td>2018</td>\n",
       "      <td>6</td>\n",
       "      <td>18</td>\n",
       "      <td>17</td>\n",
       "      <td>1</td>\n",
       "      <td>0.0</td>\n",
       "      <td>16.9</td>\n",
       "      <td>11.5</td>\n",
       "      <td>7.3</td>\n",
       "      <td>1</td>\n",
       "    </tr>\n",
       "    <tr>\n",
       "      <th>7014555</th>\n",
       "      <td>3</td>\n",
       "      <td>60</td>\n",
       "      <td>1</td>\n",
       "      <td>2018</td>\n",
       "      <td>7</td>\n",
       "      <td>11</td>\n",
       "      <td>14</td>\n",
       "      <td>0</td>\n",
       "      <td>0.0</td>\n",
       "      <td>21.7</td>\n",
       "      <td>4.2</td>\n",
       "      <td>2.1</td>\n",
       "      <td>0</td>\n",
       "    </tr>\n",
       "    <tr>\n",
       "      <th>1659977</th>\n",
       "      <td>3</td>\n",
       "      <td>31</td>\n",
       "      <td>1</td>\n",
       "      <td>2019</td>\n",
       "      <td>1</td>\n",
       "      <td>29</td>\n",
       "      <td>17</td>\n",
       "      <td>1</td>\n",
       "      <td>0.0</td>\n",
       "      <td>-5.0</td>\n",
       "      <td>5.2</td>\n",
       "      <td>3.9</td>\n",
       "      <td>1</td>\n",
       "    </tr>\n",
       "    <tr>\n",
       "      <th>...</th>\n",
       "      <td>...</td>\n",
       "      <td>...</td>\n",
       "      <td>...</td>\n",
       "      <td>...</td>\n",
       "      <td>...</td>\n",
       "      <td>...</td>\n",
       "      <td>...</td>\n",
       "      <td>...</td>\n",
       "      <td>...</td>\n",
       "      <td>...</td>\n",
       "      <td>...</td>\n",
       "      <td>...</td>\n",
       "      <td>...</td>\n",
       "    </tr>\n",
       "    <tr>\n",
       "      <th>6916025</th>\n",
       "      <td>3</td>\n",
       "      <td>16</td>\n",
       "      <td>1</td>\n",
       "      <td>2017</td>\n",
       "      <td>6</td>\n",
       "      <td>25</td>\n",
       "      <td>5</td>\n",
       "      <td>1</td>\n",
       "      <td>0.0</td>\n",
       "      <td>13.6</td>\n",
       "      <td>5.2</td>\n",
       "      <td>3.4</td>\n",
       "      <td>0</td>\n",
       "    </tr>\n",
       "    <tr>\n",
       "      <th>2485120</th>\n",
       "      <td>3</td>\n",
       "      <td>68</td>\n",
       "      <td>1</td>\n",
       "      <td>2019</td>\n",
       "      <td>2</td>\n",
       "      <td>25</td>\n",
       "      <td>14</td>\n",
       "      <td>1</td>\n",
       "      <td>0.0</td>\n",
       "      <td>6.3</td>\n",
       "      <td>11.2</td>\n",
       "      <td>7.2</td>\n",
       "      <td>0</td>\n",
       "    </tr>\n",
       "    <tr>\n",
       "      <th>3570650</th>\n",
       "      <td>6</td>\n",
       "      <td>34</td>\n",
       "      <td>1</td>\n",
       "      <td>2019</td>\n",
       "      <td>8</td>\n",
       "      <td>9</td>\n",
       "      <td>15</td>\n",
       "      <td>1</td>\n",
       "      <td>0.0</td>\n",
       "      <td>22.0</td>\n",
       "      <td>5.3</td>\n",
       "      <td>3.4</td>\n",
       "      <td>0</td>\n",
       "    </tr>\n",
       "    <tr>\n",
       "      <th>9751403</th>\n",
       "      <td>11</td>\n",
       "      <td>3</td>\n",
       "      <td>1</td>\n",
       "      <td>2018</td>\n",
       "      <td>4</td>\n",
       "      <td>15</td>\n",
       "      <td>13</td>\n",
       "      <td>1</td>\n",
       "      <td>0.0</td>\n",
       "      <td>11.9</td>\n",
       "      <td>5.3</td>\n",
       "      <td>3.9</td>\n",
       "      <td>1</td>\n",
       "    </tr>\n",
       "    <tr>\n",
       "      <th>1187098</th>\n",
       "      <td>4</td>\n",
       "      <td>4</td>\n",
       "      <td>1</td>\n",
       "      <td>2017</td>\n",
       "      <td>12</td>\n",
       "      <td>15</td>\n",
       "      <td>16</td>\n",
       "      <td>1</td>\n",
       "      <td>0.0</td>\n",
       "      <td>2.1</td>\n",
       "      <td>5.1</td>\n",
       "      <td>3.7</td>\n",
       "      <td>0</td>\n",
       "    </tr>\n",
       "  </tbody>\n",
       "</table>\n",
       "<p>2000000 rows × 13 columns</p>\n",
       "</div>"
      ],
      "text/plain": [
       "          commuterLineID  stationShortCode  weather_area  year  month  day  \\\n",
       "1745093                2                35             2  2019     12   31   \n",
       "10355112               7                 0             1  2017     12    1   \n",
       "6504334                9                63             2  2018      6   18   \n",
       "7014555                3                60             1  2018      7   11   \n",
       "1659977                3                31             1  2019      1   29   \n",
       "...                  ...               ...           ...   ...    ...  ...   \n",
       "6916025                3                16             1  2017      6   25   \n",
       "2485120                3                68             1  2019      2   25   \n",
       "3570650                6                34             1  2019      8    9   \n",
       "9751403               11                 3             1  2018      4   15   \n",
       "1187098                4                 4             1  2017     12   15   \n",
       "\n",
       "          hour  direction  rain  celcius  windGustSpeed  windSpeed  \\\n",
       "1745093     16          0   0.0      0.1           11.6        7.7   \n",
       "10355112    15          0   0.4     -0.3            9.6        5.8   \n",
       "6504334     17          1   0.0     16.9           11.5        7.3   \n",
       "7014555     14          0   0.0     21.7            4.2        2.1   \n",
       "1659977     17          1   0.0     -5.0            5.2        3.9   \n",
       "...        ...        ...   ...      ...            ...        ...   \n",
       "6916025      5          1   0.0     13.6            5.2        3.4   \n",
       "2485120     14          1   0.0      6.3           11.2        7.2   \n",
       "3570650     15          1   0.0     22.0            5.3        3.4   \n",
       "9751403     13          1   0.0     11.9            5.3        3.9   \n",
       "1187098     16          1   0.0      2.1            5.1        3.7   \n",
       "\n",
       "          differenceMinsClasses  \n",
       "1745093                       0  \n",
       "10355112                      2  \n",
       "6504334                       1  \n",
       "7014555                       0  \n",
       "1659977                       1  \n",
       "...                         ...  \n",
       "6916025                       0  \n",
       "2485120                       0  \n",
       "3570650                       0  \n",
       "9751403                       1  \n",
       "1187098                       0  \n",
       "\n",
       "[2000000 rows x 13 columns]"
      ]
     },
     "execution_count": 17,
     "metadata": {},
     "output_type": "execute_result"
    }
   ],
   "source": [
    "import datetime\n",
    "now = '../data/samples/'+str(datetime.datetime.utcnow().isoformat(timespec=\"seconds\"))+'Z.csv'\n",
    "now\n",
    "df4.to_csv(now)\n",
    "df4"
   ]
  },
  {
   "cell_type": "code",
   "execution_count": 18,
   "metadata": {},
   "outputs": [],
   "source": [
    "from sklearn.ensemble import ExtraTreesClassifier\n",
    "from sklearn.model_selection import train_test_split\n",
    "\n",
    "X_train4, X_test4, y_train4, y_test4 = train_test_split(df4.drop(\"differenceMinsClasses\", axis=1), df4['differenceMinsClasses'],\n",
    "                                                    train_size=0.80, test_size=0.20, random_state=66)\n",
    "et4 = ExtraTreesClassifier(bootstrap=True, criterion='gini', max_features=0.9000000000000001, min_samples_leaf=5, min_samples_split=12, n_estimators=100)"
   ]
  },
  {
   "cell_type": "markdown",
   "metadata": {},
   "source": [
    "### Fitting the model"
   ]
  },
  {
   "cell_type": "code",
   "execution_count": 19,
   "metadata": {},
   "outputs": [
    {
     "data": {
      "text/plain": [
       "ExtraTreesClassifier(bootstrap=True, ccp_alpha=0.0, class_weight=None,\n",
       "                     criterion='gini', max_depth=None,\n",
       "                     max_features=0.9000000000000001, max_leaf_nodes=None,\n",
       "                     max_samples=None, min_impurity_decrease=0.0,\n",
       "                     min_impurity_split=None, min_samples_leaf=5,\n",
       "                     min_samples_split=12, min_weight_fraction_leaf=0.0,\n",
       "                     n_estimators=100, n_jobs=None, oob_score=False,\n",
       "                     random_state=None, verbose=0, warm_start=False)"
      ]
     },
     "execution_count": 19,
     "metadata": {},
     "output_type": "execute_result"
    }
   ],
   "source": [
    "import sklearn\n",
    "\n",
    "et4.fit(X_train4, y_train4)"
   ]
  },
  {
   "cell_type": "code",
   "execution_count": 20,
   "metadata": {},
   "outputs": [],
   "source": [
    "y_predtrain_et4 = et4.predict(X_train4)\n",
    "\n",
    "train_error_et4 = sklearn.metrics.zero_one_loss(y_train4, y_predtrain_et4)\n",
    "y_pred_et4 = et4.predict(X_test4)\n",
    "test_error_et4 = sklearn.metrics.zero_one_loss(y_test4, y_pred_et4)"
   ]
  },
  {
   "cell_type": "code",
   "execution_count": 21,
   "metadata": {},
   "outputs": [
    {
     "data": {
      "image/png": "[encoded data removed]",
      "text/plain": [
       "<Figure size 288x288 with 1 Axes>"
      ]
     },
     "metadata": {
      "needs_background": "light"
     },
     "output_type": "display_data"
    }
   ],
   "source": [
    "import matplotlib.pyplot as plt\n",
    "\n",
    "plt.matshow(sklearn.metrics.confusion_matrix(y_test4, y_pred_et4))\n",
    "plt.title(\"Extra trees 4: training error = %.2f, test error = %.2f\" % (train_error_et4, test_error_et4))\n",
    "plt.show()"
   ]
  },
  {
   "cell_type": "markdown",
   "metadata": {},
   "source": [
    "### Save the model"
   ]
  },
  {
   "cell_type": "code",
   "execution_count": 22,
   "metadata": {},
   "outputs": [
    {
     "data": {
      "text/plain": [
       "['../data/ml-models/et2020-10-02T17:26:40Z']"
      ]
     },
     "execution_count": 22,
     "metadata": {},
     "output_type": "execute_result"
    }
   ],
   "source": [
    "from joblib import dump, load\n",
    "\n",
    "model_path = '../data/ml-models/et'+str(datetime.datetime.utcnow().isoformat(timespec=\"seconds\"))+'Z'\n",
    "dump(et4, model_path) "
   ]
  },
  {
   "cell_type": "markdown",
   "metadata": {},
   "source": []
  }
 ],
 "metadata": {
  "kernelspec": {
   "display_name": "Python 3",
   "language": "python",
   "name": "python3"
  },
  "language_info": {
   "codemirror_mode": {
    "name": "ipython",
    "version": 3
   },
   "file_extension": ".py",
   "mimetype": "text/x-python",
   "name": "python",
   "nbconvert_exporter": "python",
   "pygments_lexer": "ipython3",
   "version": "3.7.6"
  }
 },
 "nbformat": 4,
 "nbformat_minor": 4
}
